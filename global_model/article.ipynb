{
 "cells": [
  {
   "cell_type": "markdown",
   "source": [
    "# Forecasting COVID-19 using time series and machine learning\n",
    "\n",
    "## Introduction\n",
    "\n",
    "Lets consider the following SIRD Model\n",
    "$$\n",
    "S'(t) = - \\alpha(t) \\frac{S(t)I(t)}{S(t)+I(t)} \\\\\n",
    "I'(t) = \\alpha(t) \\frac{S(t)I(t)}{S(t)+I(t)} - \\beta(t) I(t)  - \\gamma(t) D(t) \\\\\n",
    " R'(t) = \\beta(t) I(t) \\\\\n",
    "D'(t) = \\gamma(t) D(t)\n",
    "$$\n",
    "where\n",
    "\n",
    "1. $ S(t) $ is the number of susceptible people,\n",
    "2. $ I(t) $ is the number of infected,\n",
    "3. $ R(t) $ is the number of recovered.\n",
    "4. $ D(t) $ is the number of deceased.\n",
    "\n",
    "Close related, we define\n",
    "\n",
    "1. $\\alpha(t)$ as the rate of infection,\n",
    "2. $\\beta(t)$ as the rate of recovery, and\n",
    "3. $\\gamma(t)$ as the rate of mortality.\n",
    "\n",
    "Another important measure is the *basic reproduction number reproduction number:*\n",
    "\n",
    "$R_0(t) = \\frac{\\alpha(t)}{\\beta(t)+\\gamma(t)}$\n",
    "\n",
    "The parameter $ \\alpha $ could be interpreted as the mean number of persons that a infected person has been in touch with, and $ \\frac{1}{\\beta} $ the mean recovery time. Most of the time, $\\alpha(t)$, $\\beta(t)$ and $\\gamma(t)$ are considered as  constants, but these assumptions have several restrictions that are not fully compatible with the reality of COVID-19. For example, As shown in \\cite[eq. 2.6]{Martcheva2015}, there is just one peak predicted by the model. Of course, this is a very simple model and we could try to add more complexity which capture many other aspect, as age or gender. For example, see \\cite{Allen2008} for a complete survey on more sophisticate models.\n",
    "\n",
    "A practical way to model the behavior of COVID-19 is using time series as in \\cite{Maleki2020}, but this approach neglects the underlying mathematical models. In \\cite{Andrade2021}, there is some work done attempting to find an underlying model previous to fitting  a time series for forecasting deaths, but not the one given by SIR model. In recent years methods coming from machine or deep learning have been used to find more accurate predictions using time series. For example, \\cite{Singh2020} tried to use support vector machines, and \\cite{Hawas2020} recurrent neural networks. However, the mathematical models are also overlooked.\n",
    "\n",
    "However, the main problem seems to be that the classical models, as the one given above, are is too rigid to be used in the current scenario. So there is a necesity to reformulate some assumptions of the model. As shown in \\cite{wacker2020time}, under certain technical assumptions, an analytical solution could be obtain  if we do not assume that the parameters in the SIR model are constant. However, there is not given a way to model these time-variable parameters.\n",
    "\n",
    "In the present article, we shall inspect a possible and promising solution by using the above ideas, in order to model time-dependent parameters in the SIR model as time series. As we want to make this approach affordable for most people as possible, we will employ some tools from machine learning to give high accurate predictions of the pandemia. In order to illustrate this ideas, we have use data from Mexico federal goverment as given in \\url{https://datos.covid-19.conacyt.mx/} at July 09, 2022.\n",
    "\n",
    "We will analyze the following discrete generalization of the SIR model.\n",
    "$$\n",
    "S(t+1)-S(t) = - \\alpha(t) \\dfrac{S(t)I(t)}{S(t)+I(t)} \\\\\n",
    "I(t+1)-I(t) = \\alpha(t) \\dfrac{S(t)I(t)}{S(t)+I(t)} - \\beta(t) I(t) -\\gamma(t)I(t) \\\\\n",
    "R(t+1)-R(t) = \\beta(t) I(t) \\\\\n",
    "D(t+1)-D(t) = \\gamma(T) I(t)\n",
    "$$\n",
    "\n",
    "Define $ C(t) $ as the number of confirmed cases, that is, $ C = I+R+D $. So we have \n",
    "$$\n",
    "C(t+1)-C(t) =  \\alpha(t) \\dfrac{S(t)I(t)}{S(t)+I(t)}\n",
    "$$\n",
    "\n",
    "For the sake of simplicity, we consider a fixed total population $N$ over time, including the deceased ones.\n",
    "\n",
    "From here, que denote the first (backward) difference $ F(t)-F(t-1) $ of a quantity $ F $ at time $ t $ as $ \\Delta F(t).$\n",
    "\n",
    "From  the discrete model above, it follows that\n",
    "$$\n",
    "\\alpha(t) = \\dfrac{S(t)+I(t)}{S(t)I(t)} \\Delta C(t)\\\\\n",
    "\\beta(t) = \\dfrac{\\Delta R(t)}{I(t)} \\\\\n",
    "\\gamma(t) = \\dfrac{\\Delta D(t)}{I(t)}\n",
    "$$\n"
   ],
   "metadata": {
    "collapsed": false
   }
  },
  {
   "cell_type": "markdown",
   "metadata": {},
   "source": [
    "## Case study\n",
    "\n",
    "\n",
    "\n"
   ]
  }
 ],
 "metadata": {
  "kernelspec": {
   "display_name": "Python 3.8.11 ('workspace')",
   "language": "python",
   "name": "python3"
  },
  "language_info": {
   "codemirror_mode": {
    "name": "ipython",
    "version": 3
   },
   "file_extension": ".py",
   "mimetype": "text/x-python",
   "name": "python",
   "nbconvert_exporter": "python",
   "pygments_lexer": "ipython3",
   "version": "3.11.4"
  },
  "vscode": {
   "interpreter": {
    "hash": "c1ceec73d4e7042bc403b2b01a041491c3c25db7ed91d0579e35b4f4d25ee65b"
   }
  }
 },
 "nbformat": 4,
 "nbformat_minor": 4
}
