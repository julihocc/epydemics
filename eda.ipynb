{
 "cells": [
  {
   "cell_type": "code",
   "execution_count": 9,
   "metadata": {
    "collapsed": true,
    "ExecuteTime": {
     "end_time": "2023-09-17T04:56:57.780000100Z",
     "start_time": "2023-09-17T04:56:57.774489100Z"
    }
   },
   "outputs": [],
   "source": [
    "import pandas as pd\n",
    "import numpy as np"
   ]
  },
  {
   "cell_type": "code",
   "execution_count": 10,
   "outputs": [
    {
     "data": {
      "text/plain": "  iso_code continent     location        date  total_cases  new_cases  \\\n0      AFG      Asia  Afghanistan  2020-01-03          NaN        0.0   \n1      AFG      Asia  Afghanistan  2020-01-04          NaN        0.0   \n2      AFG      Asia  Afghanistan  2020-01-05          NaN        0.0   \n3      AFG      Asia  Afghanistan  2020-01-06          NaN        0.0   \n4      AFG      Asia  Afghanistan  2020-01-07          NaN        0.0   \n\n   new_cases_smoothed  total_deaths  new_deaths  new_deaths_smoothed  ...  \\\n0                 NaN           NaN         0.0                  NaN  ...   \n1                 NaN           NaN         0.0                  NaN  ...   \n2                 NaN           NaN         0.0                  NaN  ...   \n3                 NaN           NaN         0.0                  NaN  ...   \n4                 NaN           NaN         0.0                  NaN  ...   \n\n   male_smokers  handwashing_facilities  hospital_beds_per_thousand  \\\n0           NaN                  37.746                         0.5   \n1           NaN                  37.746                         0.5   \n2           NaN                  37.746                         0.5   \n3           NaN                  37.746                         0.5   \n4           NaN                  37.746                         0.5   \n\n   life_expectancy  human_development_index  population  \\\n0            64.83                    0.511  41128772.0   \n1            64.83                    0.511  41128772.0   \n2            64.83                    0.511  41128772.0   \n3            64.83                    0.511  41128772.0   \n4            64.83                    0.511  41128772.0   \n\n   excess_mortality_cumulative_absolute  excess_mortality_cumulative  \\\n0                                   NaN                          NaN   \n1                                   NaN                          NaN   \n2                                   NaN                          NaN   \n3                                   NaN                          NaN   \n4                                   NaN                          NaN   \n\n   excess_mortality  excess_mortality_cumulative_per_million  \n0               NaN                                      NaN  \n1               NaN                                      NaN  \n2               NaN                                      NaN  \n3               NaN                                      NaN  \n4               NaN                                      NaN  \n\n[5 rows x 67 columns]",
      "text/html": "<div>\n<style scoped>\n    .dataframe tbody tr th:only-of-type {\n        vertical-align: middle;\n    }\n\n    .dataframe tbody tr th {\n        vertical-align: top;\n    }\n\n    .dataframe thead th {\n        text-align: right;\n    }\n</style>\n<table border=\"1\" class=\"dataframe\">\n  <thead>\n    <tr style=\"text-align: right;\">\n      <th></th>\n      <th>iso_code</th>\n      <th>continent</th>\n      <th>location</th>\n      <th>date</th>\n      <th>total_cases</th>\n      <th>new_cases</th>\n      <th>new_cases_smoothed</th>\n      <th>total_deaths</th>\n      <th>new_deaths</th>\n      <th>new_deaths_smoothed</th>\n      <th>...</th>\n      <th>male_smokers</th>\n      <th>handwashing_facilities</th>\n      <th>hospital_beds_per_thousand</th>\n      <th>life_expectancy</th>\n      <th>human_development_index</th>\n      <th>population</th>\n      <th>excess_mortality_cumulative_absolute</th>\n      <th>excess_mortality_cumulative</th>\n      <th>excess_mortality</th>\n      <th>excess_mortality_cumulative_per_million</th>\n    </tr>\n  </thead>\n  <tbody>\n    <tr>\n      <th>0</th>\n      <td>AFG</td>\n      <td>Asia</td>\n      <td>Afghanistan</td>\n      <td>2020-01-03</td>\n      <td>NaN</td>\n      <td>0.0</td>\n      <td>NaN</td>\n      <td>NaN</td>\n      <td>0.0</td>\n      <td>NaN</td>\n      <td>...</td>\n      <td>NaN</td>\n      <td>37.746</td>\n      <td>0.5</td>\n      <td>64.83</td>\n      <td>0.511</td>\n      <td>41128772.0</td>\n      <td>NaN</td>\n      <td>NaN</td>\n      <td>NaN</td>\n      <td>NaN</td>\n    </tr>\n    <tr>\n      <th>1</th>\n      <td>AFG</td>\n      <td>Asia</td>\n      <td>Afghanistan</td>\n      <td>2020-01-04</td>\n      <td>NaN</td>\n      <td>0.0</td>\n      <td>NaN</td>\n      <td>NaN</td>\n      <td>0.0</td>\n      <td>NaN</td>\n      <td>...</td>\n      <td>NaN</td>\n      <td>37.746</td>\n      <td>0.5</td>\n      <td>64.83</td>\n      <td>0.511</td>\n      <td>41128772.0</td>\n      <td>NaN</td>\n      <td>NaN</td>\n      <td>NaN</td>\n      <td>NaN</td>\n    </tr>\n    <tr>\n      <th>2</th>\n      <td>AFG</td>\n      <td>Asia</td>\n      <td>Afghanistan</td>\n      <td>2020-01-05</td>\n      <td>NaN</td>\n      <td>0.0</td>\n      <td>NaN</td>\n      <td>NaN</td>\n      <td>0.0</td>\n      <td>NaN</td>\n      <td>...</td>\n      <td>NaN</td>\n      <td>37.746</td>\n      <td>0.5</td>\n      <td>64.83</td>\n      <td>0.511</td>\n      <td>41128772.0</td>\n      <td>NaN</td>\n      <td>NaN</td>\n      <td>NaN</td>\n      <td>NaN</td>\n    </tr>\n    <tr>\n      <th>3</th>\n      <td>AFG</td>\n      <td>Asia</td>\n      <td>Afghanistan</td>\n      <td>2020-01-06</td>\n      <td>NaN</td>\n      <td>0.0</td>\n      <td>NaN</td>\n      <td>NaN</td>\n      <td>0.0</td>\n      <td>NaN</td>\n      <td>...</td>\n      <td>NaN</td>\n      <td>37.746</td>\n      <td>0.5</td>\n      <td>64.83</td>\n      <td>0.511</td>\n      <td>41128772.0</td>\n      <td>NaN</td>\n      <td>NaN</td>\n      <td>NaN</td>\n      <td>NaN</td>\n    </tr>\n    <tr>\n      <th>4</th>\n      <td>AFG</td>\n      <td>Asia</td>\n      <td>Afghanistan</td>\n      <td>2020-01-07</td>\n      <td>NaN</td>\n      <td>0.0</td>\n      <td>NaN</td>\n      <td>NaN</td>\n      <td>0.0</td>\n      <td>NaN</td>\n      <td>...</td>\n      <td>NaN</td>\n      <td>37.746</td>\n      <td>0.5</td>\n      <td>64.83</td>\n      <td>0.511</td>\n      <td>41128772.0</td>\n      <td>NaN</td>\n      <td>NaN</td>\n      <td>NaN</td>\n      <td>NaN</td>\n    </tr>\n  </tbody>\n</table>\n<p>5 rows × 67 columns</p>\n</div>"
     },
     "execution_count": 10,
     "metadata": {},
     "output_type": "execute_result"
    }
   ],
   "source": [
    "owid_data = pd.read_csv(\"owid-covid-data.csv\")\n",
    "owid_data.head()"
   ],
   "metadata": {
    "collapsed": false,
    "ExecuteTime": {
     "end_time": "2023-09-17T04:56:59.267786400Z",
     "start_time": "2023-09-17T04:56:57.780000100Z"
    }
   }
  },
  {
   "cell_type": "code",
   "execution_count": 11,
   "outputs": [
    {
     "data": {
      "text/plain": "array(['Afghanistan', 'Africa', 'Albania', 'Algeria', 'American Samoa',\n       'Andorra', 'Angola', 'Anguilla', 'Antigua and Barbuda',\n       'Argentina', 'Armenia', 'Aruba', 'Asia', 'Australia', 'Austria',\n       'Azerbaijan', 'Bahamas', 'Bahrain', 'Bangladesh', 'Barbados',\n       'Belarus', 'Belgium', 'Belize', 'Benin', 'Bermuda', 'Bhutan',\n       'Bolivia', 'Bonaire Sint Eustatius and Saba',\n       'Bosnia and Herzegovina', 'Botswana', 'Brazil',\n       'British Virgin Islands', 'Brunei', 'Bulgaria', 'Burkina Faso',\n       'Burundi', 'Cambodia', 'Cameroon', 'Canada', 'Cape Verde',\n       'Cayman Islands', 'Central African Republic', 'Chad', 'Chile',\n       'China', 'Colombia', 'Comoros', 'Congo', 'Cook Islands',\n       'Costa Rica', \"Cote d'Ivoire\", 'Croatia', 'Cuba', 'Curacao',\n       'Cyprus', 'Czechia', 'Democratic Republic of Congo', 'Denmark',\n       'Djibouti', 'Dominica', 'Dominican Republic', 'Ecuador', 'Egypt',\n       'El Salvador', 'England', 'Equatorial Guinea', 'Eritrea',\n       'Estonia', 'Eswatini', 'Ethiopia', 'Europe', 'European Union',\n       'Faeroe Islands', 'Falkland Islands', 'Fiji', 'Finland', 'France',\n       'French Guiana', 'French Polynesia', 'Gabon', 'Gambia', 'Georgia',\n       'Germany', 'Ghana', 'Gibraltar', 'Greece', 'Greenland', 'Grenada',\n       'Guadeloupe', 'Guam', 'Guatemala', 'Guernsey', 'Guinea',\n       'Guinea-Bissau', 'Guyana', 'Haiti', 'High income', 'Honduras',\n       'Hong Kong', 'Hungary', 'Iceland', 'India', 'Indonesia', 'Iran',\n       'Iraq', 'Ireland', 'Isle of Man', 'Israel', 'Italy', 'Jamaica',\n       'Japan', 'Jersey', 'Jordan', 'Kazakhstan', 'Kenya', 'Kiribati',\n       'Kosovo', 'Kuwait', 'Kyrgyzstan', 'Laos', 'Latvia', 'Lebanon',\n       'Lesotho', 'Liberia', 'Libya', 'Liechtenstein', 'Lithuania',\n       'Low income', 'Lower middle income', 'Luxembourg', 'Macao',\n       'Madagascar', 'Malawi', 'Malaysia', 'Maldives', 'Mali', 'Malta',\n       'Marshall Islands', 'Martinique', 'Mauritania', 'Mauritius',\n       'Mayotte', 'Mexico', 'Micronesia (country)', 'Moldova', 'Monaco',\n       'Mongolia', 'Montenegro', 'Montserrat', 'Morocco', 'Mozambique',\n       'Myanmar', 'Namibia', 'Nauru', 'Nepal', 'Netherlands',\n       'New Caledonia', 'New Zealand', 'Nicaragua', 'Niger', 'Nigeria',\n       'Niue', 'North America', 'North Korea', 'North Macedonia',\n       'Northern Cyprus', 'Northern Ireland', 'Northern Mariana Islands',\n       'Norway', 'Oceania', 'Oman', 'Pakistan', 'Palau', 'Palestine',\n       'Panama', 'Papua New Guinea', 'Paraguay', 'Peru', 'Philippines',\n       'Pitcairn', 'Poland', 'Portugal', 'Puerto Rico', 'Qatar',\n       'Reunion', 'Romania', 'Russia', 'Rwanda', 'Saint Barthelemy',\n       'Saint Helena', 'Saint Kitts and Nevis', 'Saint Lucia',\n       'Saint Martin (French part)', 'Saint Pierre and Miquelon',\n       'Saint Vincent and the Grenadines', 'Samoa', 'San Marino',\n       'Sao Tome and Principe', 'Saudi Arabia', 'Scotland', 'Senegal',\n       'Serbia', 'Seychelles', 'Sierra Leone', 'Singapore',\n       'Sint Maarten (Dutch part)', 'Slovakia', 'Slovenia',\n       'Solomon Islands', 'Somalia', 'South Africa', 'South America',\n       'South Korea', 'South Sudan', 'Spain', 'Sri Lanka', 'Sudan',\n       'Suriname', 'Sweden', 'Switzerland', 'Syria', 'Taiwan',\n       'Tajikistan', 'Tanzania', 'Thailand', 'Timor', 'Togo', 'Tokelau',\n       'Tonga', 'Trinidad and Tobago', 'Tunisia', 'Turkey',\n       'Turkmenistan', 'Turks and Caicos Islands', 'Tuvalu', 'Uganda',\n       'Ukraine', 'United Arab Emirates', 'United Kingdom',\n       'United States', 'United States Virgin Islands',\n       'Upper middle income', 'Uruguay', 'Uzbekistan', 'Vanuatu',\n       'Vatican', 'Venezuela', 'Vietnam', 'Wales', 'Wallis and Futuna',\n       'Western Sahara', 'World', 'Yemen', 'Zambia', 'Zimbabwe'],\n      dtype=object)"
     },
     "execution_count": 11,
     "metadata": {},
     "output_type": "execute_result"
    }
   ],
   "source": [
    "locations = owid_data.location.unique()\n",
    "locations"
   ],
   "metadata": {
    "collapsed": false,
    "ExecuteTime": {
     "end_time": "2023-09-17T04:56:59.339620600Z",
     "start_time": "2023-09-17T04:56:59.267786400Z"
    }
   }
  },
  {
   "cell_type": "code",
   "execution_count": 12,
   "outputs": [
    {
     "data": {
      "text/plain": "numpy.ndarray"
     },
     "execution_count": 12,
     "metadata": {},
     "output_type": "execute_result"
    }
   ],
   "source": [
    "iso_codes = owid_data.iso_code.unique()\n",
    "type(iso_codes)"
   ],
   "metadata": {
    "collapsed": false,
    "ExecuteTime": {
     "end_time": "2023-09-17T04:56:59.356625400Z",
     "start_time": "2023-09-17T04:56:59.297986500Z"
    }
   }
  },
  {
   "cell_type": "code",
   "execution_count": 16,
   "outputs": [
    {
     "data": {
      "text/plain": "('AFG',\n 'OWID_AFR',\n 'ALB',\n 'DZA',\n 'ASM',\n 'AND',\n 'AGO',\n 'AIA',\n 'ATG',\n 'ARG',\n 'ARM',\n 'ABW',\n 'OWID_ASI',\n 'AUS',\n 'AUT',\n 'AZE',\n 'BHS',\n 'BHR',\n 'BGD',\n 'BRB',\n 'BLR',\n 'BEL',\n 'BLZ',\n 'BEN',\n 'BMU',\n 'BTN',\n 'BOL',\n 'BES',\n 'BIH',\n 'BWA',\n 'BRA',\n 'VGB',\n 'BRN',\n 'BGR',\n 'BFA',\n 'BDI',\n 'KHM',\n 'CMR',\n 'CAN',\n 'CPV',\n 'CYM',\n 'CAF',\n 'TCD',\n 'CHL',\n 'CHN',\n 'COL',\n 'COM',\n 'COG',\n 'COK',\n 'CRI',\n 'CIV',\n 'HRV',\n 'CUB',\n 'CUW',\n 'CYP',\n 'CZE',\n 'COD',\n 'DNK',\n 'DJI',\n 'DMA',\n 'DOM',\n 'ECU',\n 'EGY',\n 'SLV',\n 'OWID_ENG',\n 'GNQ',\n 'ERI',\n 'EST',\n 'SWZ',\n 'ETH',\n 'OWID_EUR',\n 'OWID_EUN',\n 'FRO',\n 'FLK',\n 'FJI',\n 'FIN',\n 'FRA',\n 'GUF',\n 'PYF',\n 'GAB',\n 'GMB',\n 'GEO',\n 'DEU',\n 'GHA',\n 'GIB',\n 'GRC',\n 'GRL',\n 'GRD',\n 'GLP',\n 'GUM',\n 'GTM',\n 'GGY',\n 'GIN',\n 'GNB',\n 'GUY',\n 'HTI',\n 'OWID_HIC',\n 'HND',\n 'HKG',\n 'HUN',\n 'ISL',\n 'IND',\n 'IDN',\n 'IRN',\n 'IRQ',\n 'IRL',\n 'IMN',\n 'ISR',\n 'ITA',\n 'JAM',\n 'JPN',\n 'JEY',\n 'JOR',\n 'KAZ',\n 'KEN',\n 'KIR',\n 'OWID_KOS',\n 'KWT',\n 'KGZ',\n 'LAO',\n 'LVA',\n 'LBN',\n 'LSO',\n 'LBR',\n 'LBY',\n 'LIE',\n 'LTU',\n 'OWID_LIC',\n 'OWID_LMC',\n 'LUX',\n 'MAC',\n 'MDG',\n 'MWI',\n 'MYS',\n 'MDV',\n 'MLI',\n 'MLT',\n 'MHL',\n 'MTQ',\n 'MRT',\n 'MUS',\n 'MYT',\n 'MEX',\n 'FSM',\n 'MDA',\n 'MCO',\n 'MNG',\n 'MNE',\n 'MSR',\n 'MAR',\n 'MOZ',\n 'MMR',\n 'NAM',\n 'NRU',\n 'NPL',\n 'NLD',\n 'NCL',\n 'NZL',\n 'NIC',\n 'NER',\n 'NGA',\n 'NIU',\n 'OWID_NAM',\n 'PRK',\n 'MKD',\n 'OWID_CYN',\n 'OWID_NIR',\n 'MNP',\n 'NOR',\n 'OWID_OCE',\n 'OMN',\n 'PAK',\n 'PLW',\n 'PSE',\n 'PAN',\n 'PNG',\n 'PRY',\n 'PER',\n 'PHL',\n 'PCN',\n 'POL',\n 'PRT',\n 'PRI',\n 'QAT',\n 'REU',\n 'ROU',\n 'RUS',\n 'RWA',\n 'BLM',\n 'SHN',\n 'KNA',\n 'LCA',\n 'MAF',\n 'SPM',\n 'VCT',\n 'WSM',\n 'SMR',\n 'STP',\n 'SAU',\n 'OWID_SCT',\n 'SEN',\n 'SRB',\n 'SYC',\n 'SLE',\n 'SGP',\n 'SXM',\n 'SVK',\n 'SVN',\n 'SLB',\n 'SOM',\n 'ZAF',\n 'OWID_SAM',\n 'KOR',\n 'SSD',\n 'ESP',\n 'LKA',\n 'SDN',\n 'SUR',\n 'SWE',\n 'CHE',\n 'SYR',\n 'TWN',\n 'TJK',\n 'TZA',\n 'THA',\n 'TLS',\n 'TGO',\n 'TKL',\n 'TON',\n 'TTO',\n 'TUN',\n 'TUR',\n 'TKM',\n 'TCA',\n 'TUV',\n 'UGA',\n 'UKR',\n 'ARE',\n 'GBR',\n 'USA',\n 'VIR',\n 'OWID_UMC',\n 'URY',\n 'UZB',\n 'VUT',\n 'VAT',\n 'VEN',\n 'VNM',\n 'OWID_WLS',\n 'WLF',\n 'ESH',\n 'OWID_WRL',\n 'YEM',\n 'ZMB',\n 'ZWE')"
     },
     "execution_count": 16,
     "metadata": {},
     "output_type": "execute_result"
    }
   ],
   "source": [
    "tuple(iso_codes)"
   ],
   "metadata": {
    "collapsed": false,
    "ExecuteTime": {
     "end_time": "2023-09-17T04:58:28.119434400Z",
     "start_time": "2023-09-17T04:58:28.097454500Z"
    }
   }
  },
  {
   "cell_type": "code",
   "execution_count": 15,
   "outputs": [
    {
     "data": {
      "text/plain": "array(['OWID_AFR', 'OWID_ASI', 'OWID_CYN', 'OWID_ENG', 'OWID_EUN',\n       'OWID_EUR', 'OWID_HIC', 'OWID_KOS', 'OWID_LIC', 'OWID_LMC',\n       'OWID_NAM', 'OWID_NIR', 'OWID_OCE', 'OWID_SAM', 'OWID_SCT',\n       'OWID_UMC', 'OWID_WLS', 'OWID_WRL'], dtype='<U8')"
     },
     "execution_count": 15,
     "metadata": {},
     "output_type": "execute_result"
    }
   ],
   "source": [
    "owid_codes = filter(lambda x: \"OWID\" in x, owid_data.iso_code)\n",
    "owid_codes = tuple(owid_codes)\n",
    "owid_codes = np.unique(owid_codes)\n",
    "owid_codes"
   ],
   "metadata": {
    "collapsed": false,
    "ExecuteTime": {
     "end_time": "2023-09-17T04:57:39.857561400Z",
     "start_time": "2023-09-17T04:57:39.793632300Z"
    }
   }
  },
  {
   "cell_type": "code",
   "execution_count": 17,
   "outputs": [
    {
     "name": "stdout",
     "output_type": "stream",
     "text": [
      "iso_code\n",
      "continent\n",
      "location\n",
      "date\n",
      "total_cases\n",
      "new_cases\n",
      "new_cases_smoothed\n",
      "total_deaths\n",
      "new_deaths\n",
      "new_deaths_smoothed\n",
      "total_cases_per_million\n",
      "new_cases_per_million\n",
      "new_cases_smoothed_per_million\n",
      "total_deaths_per_million\n",
      "new_deaths_per_million\n",
      "new_deaths_smoothed_per_million\n",
      "reproduction_rate\n",
      "icu_patients\n",
      "icu_patients_per_million\n",
      "hosp_patients\n",
      "hosp_patients_per_million\n",
      "weekly_icu_admissions\n",
      "weekly_icu_admissions_per_million\n",
      "weekly_hosp_admissions\n",
      "weekly_hosp_admissions_per_million\n",
      "total_tests\n",
      "new_tests\n",
      "total_tests_per_thousand\n",
      "new_tests_per_thousand\n",
      "new_tests_smoothed\n",
      "new_tests_smoothed_per_thousand\n",
      "positive_rate\n",
      "tests_per_case\n",
      "tests_units\n",
      "total_vaccinations\n",
      "people_vaccinated\n",
      "people_fully_vaccinated\n",
      "total_boosters\n",
      "new_vaccinations\n",
      "new_vaccinations_smoothed\n",
      "total_vaccinations_per_hundred\n",
      "people_vaccinated_per_hundred\n",
      "people_fully_vaccinated_per_hundred\n",
      "total_boosters_per_hundred\n",
      "new_vaccinations_smoothed_per_million\n",
      "new_people_vaccinated_smoothed\n",
      "new_people_vaccinated_smoothed_per_hundred\n",
      "stringency_index\n",
      "population_density\n",
      "median_age\n",
      "aged_65_older\n",
      "aged_70_older\n",
      "gdp_per_capita\n",
      "extreme_poverty\n",
      "cardiovasc_death_rate\n",
      "diabetes_prevalence\n",
      "female_smokers\n",
      "male_smokers\n",
      "handwashing_facilities\n",
      "hospital_beds_per_thousand\n",
      "life_expectancy\n",
      "human_development_index\n",
      "population\n",
      "excess_mortality_cumulative_absolute\n",
      "excess_mortality_cumulative\n",
      "excess_mortality\n",
      "excess_mortality_cumulative_per_million\n"
     ]
    }
   ],
   "source": [
    "for column in owid_data.columns:\n",
    "    print(column)\n"
   ],
   "metadata": {
    "collapsed": false,
    "ExecuteTime": {
     "end_time": "2023-09-17T05:57:19.381356700Z",
     "start_time": "2023-09-17T05:57:19.346830500Z"
    }
   }
  },
  {
   "cell_type": "code",
   "execution_count": null,
   "outputs": [],
   "source": [],
   "metadata": {
    "collapsed": false
   }
  }
 ],
 "metadata": {
  "kernelspec": {
   "display_name": "Python 3",
   "language": "python",
   "name": "python3"
  },
  "language_info": {
   "codemirror_mode": {
    "name": "ipython",
    "version": 2
   },
   "file_extension": ".py",
   "mimetype": "text/x-python",
   "name": "python",
   "nbconvert_exporter": "python",
   "pygments_lexer": "ipython2",
   "version": "2.7.6"
  }
 },
 "nbformat": 4,
 "nbformat_minor": 0
}
